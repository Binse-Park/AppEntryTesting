{
 "cells": [
  {
   "cell_type": "markdown",
   "metadata": {},
   "source": [
    "# App Entry Testing"
   ]
  },
  {
   "cell_type": "markdown",
   "metadata": {},
   "source": [
    "The goal of this experiment is to collect frame statistics while swiping up and down tabs of recently opened applications on a Pixel device running Android with an EAS kernel. This process is name **Recents Fling**. The Analysis phase will consist in comparing EAS with other schedulers, that is comparing *sched* governor with:\n",
    "\n",
    "    - interactive\n",
    "    - performance\n",
    "    - powersave\n",
    "    - ondemand\n",
    "    \n",
    "For this experiment it is recommended to open many applications so that we can swipe over more recently opened applications."
   ]
  },
  {
   "cell_type": "code",
   "execution_count": 1,
   "metadata": {},
   "outputs": [
    {
     "name": "stderr",
     "output_type": "stream",
     "text": [
      "2019-08-20 23:09:04,880 INFO    : root         : Using LISA logging configuration:\n",
      "2019-08-20 23:09:04,881 INFO    : root         :   /home/ubuntu/Android/lisa/logging.conf\n"
     ]
    }
   ],
   "source": [
    "import logging\n",
    "from lisa.utils import setup_logging\n",
    "setup_logging()"
   ]
  },
  {
   "cell_type": "code",
   "execution_count": 2,
   "metadata": {
    "scrolled": true
   },
   "outputs": [
    {
     "name": "stderr",
     "output_type": "stream",
     "text": [
      "2019-08-20 23:09:04,892 INFO    : root         : Generating grammar tables from /usr/lib/python3.5/lib2to3/Grammar.txt\n",
      "2019-08-20 23:09:04,911 INFO    : root         : Generating grammar tables from /usr/lib/python3.5/lib2to3/PatternGrammar.txt\n"
     ]
    }
   ],
   "source": [
    "import os\n",
    "from lisa.target import Target, TargetConf"
   ]
  },
  {
   "cell_type": "code",
   "execution_count": 3,
   "metadata": {},
   "outputs": [],
   "source": [
    "import os\n",
    "from time import sleep\n",
    "\n",
    "# Support to access the remote target\n",
    "import devlib\n",
    "\n",
    "# Import support for Android devices\n",
    "#from android import Screen, Workload\n",
    "\n",
    "from devlib.utils.android import adb_command\n",
    "\n",
    "# Support for trace events analysis\n",
    "from trace import Trace\n",
    "\n",
    "# Suport for FTrace events parsing and visualization\n",
    "import trappy\n",
    "\n",
    "import ipywidgets as widgets\n",
    "from IPython.display import display\n",
    "\n",
    "from ipywidgets import interact, interactive, fixed, interact_manual\n",
    "\n",
    "#from android import System\n",
    "\n",
    "import subprocess"
   ]
  },
  {
   "cell_type": "markdown",
   "metadata": {},
   "source": [
    "## Test environment setup"
   ]
  },
  {
   "cell_type": "markdown",
   "metadata": {},
   "source": [
    "**devlib** requires the ANDROID_HOME environment variable configured to point to your local installation of the Android SDK. If you have not this variable configured in the shell used to start the notebook server, you need to run a cell to define where your Android SDK is installed or specify the ANDROID_HOME in your target configuration.\n",
    "\n",
    "In case more than one Android device are conencted to the host, you must specify the ID of the device you want to target in **my_target_conf**. Run **adb devices** on your host to get the ID."
   ]
  },
  {
   "cell_type": "code",
   "execution_count": 4,
   "metadata": {},
   "outputs": [],
   "source": [
    "import os\n",
    "os.environ['ANDROID_HOME'] = '/home/ubuntu/Android/AndroidSDK/'"
   ]
  },
  {
   "cell_type": "markdown",
   "metadata": {},
   "source": [
    "In case more than one Android device are conencted to the host, you must specify the ID of the device you want to target in `my_target_conf`. Run `adb devices` on your host to get the ID."
   ]
  },
  {
   "cell_type": "code",
   "execution_count": 5,
   "metadata": {},
   "outputs": [
    {
     "name": "stdout",
     "output_type": "stream",
     "text": [
      "adb device - R38KA07SR2J\n"
     ]
    }
   ],
   "source": [
    "adb_devices=!adb devices\n",
    "adb_devices=adb_devices[1].split('\\t')\n",
    "print('adb device - {}'.format(adb_devices[0]))"
   ]
  },
  {
   "cell_type": "code",
   "execution_count": 6,
   "metadata": {},
   "outputs": [
    {
     "name": "stdout",
     "output_type": "stream",
     "text": [
      "/home/ubuntu/Android/lisa\n"
     ]
    }
   ],
   "source": [
    "LISA_HOME = !echo $LISA_HOME\n",
    "LISA_HOME = LISA_HOME[0]\n",
    "print(LISA_HOME)"
   ]
  },
  {
   "cell_type": "code",
   "execution_count": 7,
   "metadata": {},
   "outputs": [
    {
     "name": "stderr",
     "output_type": "stream",
     "text": [
      "2019-08-20 23:09:07,244 INFO    : lisa.target.Target : Creating result directory: /home/ubuntu/Android/lisa/results/Target-<noname>-20190820_230907.243820\n",
      "2019-08-20 23:09:07,245 INFO    : lisa.target.Target : android <noname> target connection settings:\n",
      "2019-08-20 23:09:07,246 INFO    : lisa.target.Target :     device : R38KA07SR2J\n",
      "2019-08-20 23:09:07,254 INFO    : lisa.target.Target : Devlib modules to load: bl, cgroups, cpufreq, cpuidle, devfreq, fastboot, gem5stats, gpufreq, hotplug, hwmon, mbed-fan, odroidxu3-fan, sched, thermal\n",
      "2019-08-20 23:09:11,963 WARNING : AndroidTarget : Module gem5stats is not supported by the target\n",
      "2019-08-20 23:09:14,739 WARNING : AndroidTarget : Module odroidxu3-fan is not supported by the target\n",
      "2019-08-20 23:09:26,344 INFO    : CGroups      : Available controllers:\n",
      "2019-08-20 23:09:27,268 INFO    : CGroups      :   cpuset       : /data/local/tmp/devlib-target/cgroups/devlib_cgh5\n",
      "2019-08-20 23:09:28,097 INFO    : CGroups      :   cpu          : /data/local/tmp/devlib-target/cgroups/devlib_cgh3\n",
      "2019-08-20 23:09:28,946 INFO    : CGroups      :   cpuacct      : /data/local/tmp/devlib-target/cgroups/devlib_cgh4\n",
      "2019-08-20 23:09:29,752 INFO    : CGroups      :   schedtune    : /data/local/tmp/devlib-target/cgroups/devlib_cgh6\n",
      "2019-08-20 23:09:30,653 INFO    : CGroups      :   blkio        : /data/local/tmp/devlib-target/cgroups/devlib_cgh2\n",
      "2019-08-20 23:09:31,552 INFO    : CGroups      :   memory       : /data/local/tmp/devlib-target/cgroups/devlib_cgh1\n",
      "2019-08-20 23:09:32,451 INFO    : CGroups      :   freezer      : /data/local/tmp/devlib-target/cgroups/devlib_cgh0\n",
      "2019-08-20 23:09:32,989 INFO    : CGroups      :   debug        : /data/local/tmp/devlib-target/cgroups/devlib_cgh0\n",
      "2019-08-20 23:09:33,132 WARNING : lisa.target.Target : Failed to initialized \"fastboot\" devlib Module\n",
      "2019-08-20 23:09:33,133 WARNING : lisa.target.Target : Failed to initialized \"gem5stats\" devlib Module\n",
      "2019-08-20 23:09:33,133 WARNING : lisa.target.Target : Failed to initialized \"mbed-fan\" devlib Module\n",
      "2019-08-20 23:09:33,134 WARNING : lisa.target.Target : Failed to initialized \"odroidxu3-fan\" devlib Module\n",
      "2019-08-20 23:09:33,135 INFO    : lisa.platforms.platinfo.PlatformInfo : Attempting to read energy model from target\n",
      "2019-08-20 23:09:33,525 INFO    : lisa.energy_model.EnergyModel.from_target : Attempting to load EM using LegacyEnergyModel\n",
      "2019-08-20 23:09:39,268 INFO    : lisa.target.Target : Effective platform information:\n",
      "|- abi from target (str): arm64\n",
      "|- cpu-capacities from target (dict): {0: 378, 1: 378, 2: 378, 3: 378, 4: 871, 5: 871, 6: 871, 7: 1024}\n",
      "|- cpus-count from target (int): 8\n",
      "|- freq-domains from target (list): [[0, 1, 2, 3], [4, 5, 6], [7]]\n",
      "|- freqs from target (dict): {0: [300000, 403200, 499200, 576000, 672000, 768000, 844800, 940800, 1036800, 1113600, 1209600, 1305600, 1382400, 1478400, 1555200, 1632000, 1708800, 1785600], 1: [300000, 403200, 499200, 576000, 672000, 768000, 844800, 940800, 1036800, 1113600, 1209600, 1305600, 1382400, 1478400, 1555200, 1632000, 1708800, 1785600], 2: [300000, 403200, 499200, 576000, 672000, 768000, 844800, 940800, 1036800, 1113600, 1209600, 1305600, 1382400, 1478400, 1555200, 1632000, 1708800, 1785600], 3: [300000, 403200, 499200, 576000, 672000, 768000, 844800, 940800, 1036800, 1113600, 1209600, 1305600, 1382400, 1478400, 1555200, 1632000, 1708800, 1785600], 4: [710400, 825600, 940800, 1056000, 1171200, 1286400, 1401600, 1497600, 1612800, 1708800, 1804800, 1920000, 2016000, 2131200, 2227200, 2323200, 2419200], 5: [710400, 825600, 940800, 1056000, 1171200, 1286400, 1401600, 1497600, 1612800, 1708800, 1804800, 1920000, 2016000, 2131200, 2227200, 2323200, 2419200], 6: [710400, 825600, 940800, 1056000, 1171200, 1286400, 1401600, 1497600, 1612800, 1708800, 1804800, 1920000, 2016000, 2131200, 2227200, 2323200, 2419200], 7: [825600, 940800, 1056000, 1171200, 1286400, 1401600, 1497600, 1612800, 1708800, 1804800, 1920000, 2016000, 2131200, 2227200, 2323200, 2419200, 2534400, 2649600, 2745600, 2841600]}\n",
      "+- kernel:\n",
      "    |- config from target (TypedKernelConfig): <kernel config>\n",
      "    |- version from target (KernelVersion): 4.14.117-16644855-eng 1 SMP PREEMPT Wed Aug 14 16:39:07 KST 2019\n",
      "|- name from target-conf (str): <noname>\n",
      "|- nrg-model from target (LegacyEnergyModel): <lisa.energy_model.LegacyEnergyModel object at 0x7f36fae5cd30>\n",
      "|- os from target (str): android\n",
      "+- rtapp:\n",
      "    |- calib from target (DeferredValue): <lazy value of RTA.get_cpu_calibrations>\n",
      "|- capacity-classes from target(platform-info/cpu-capacities) (list): [[0, 1, 2, 3], [4, 5, 6], [7]]\n"
     ]
    }
   ],
   "source": [
    "target = Target(\n",
    "    kind='android',\n",
    "    device=adb_devices[0]\n",
    "#    name='myhikey960',\n",
    "#    host='192.168.0.1',\n",
    "#    username='root',\n",
    "#    password='root',\n",
    ")\n",
    "\n",
    "systrace_conf = {\n",
    "    #\"systrace\" : {\n",
    "        \"events\" : [\"input\", \"view\", \"wm\", \"am\", \"sm\", \"audio\", \"video\", \"res\", \"dalvik\", \"rs\", \"bionic\", \"sched\", \"freq\", \"idle\", \"sync\", \"workq\"],\n",
    "        \"buffsize\" : 10240,\n",
    "    #}\n",
    "}"
   ]
  },
  {
   "cell_type": "code",
   "execution_count": 8,
   "metadata": {},
   "outputs": [
    {
     "name": "stdout",
     "output_type": "stream",
     "text": [
      "adbd is already running as root\n",
      "/home/ubuntu/Android/lisa/tools/aapt-a...d. 27.8 MB/s (5182616 bytes in 0.178s)\u001b[K\n"
     ]
    }
   ],
   "source": [
    "!adb root\n",
    "\n",
    "!adb push $LISA_HOME/tools/aapt-arm-pie /data/local/tmp\n",
    "!adb shell chmod 0755 /data/local/tmp/aapt-arm-pie\n"
   ]
  },
  {
   "cell_type": "markdown",
   "metadata": {},
   "source": [
    "## Defines"
   ]
  },
  {
   "cell_type": "code",
   "execution_count": 9,
   "metadata": {},
   "outputs": [],
   "source": [
    "KEYCODE_HOME = 'KEYCODE_HOME'\n",
    "KEYCODE_APP_SWITCH = 'KEYCODE_APP_SWITCH'\n",
    "KEYCODE_DPAD_UP = 'KEYCODE_DPAD_UP'\n",
    "KEYCODE_DPAD_DOWN = 'KEYCODE_DPAD_DOWN'\n",
    "KEYCODE_DPAD_LEFT = 'KEYCODE_DPAD_LEFT'\n",
    "KEYCODE_DPAD_RIGHT = 'KEYCODE_DPAD_RIGHT'\n",
    "KEYCODE_DEL = 'KEYCODE_DEL'\n",
    "KEY_DEL = 'DEL'"
   ]
  },
  {
   "cell_type": "markdown",
   "metadata": {},
   "source": [
    "## Support Functions"
   ]
  },
  {
   "cell_type": "markdown",
   "metadata": {},
   "source": [
    "This set of support functions will help us running the benchmark using different CPUFreq governors."
   ]
  },
  {
   "cell_type": "code",
   "execution_count": 10,
   "metadata": {},
   "outputs": [],
   "source": [
    "def open_apps(n):\n",
    "    \"\"\"\n",
    "    Open `n` apps on the device\n",
    "    \n",
    "    :param n: number of apps to open\n",
    "    :type n: int\n",
    "    \"\"\"\n",
    "    # Get a list of third-party packages\n",
    "    android_version = target.getprop('ro.build.version.release')\n",
    "    if android_version >= 'N':\n",
    "        packages = target.execute('cmd package list packages | cut -d: -f 2')\n",
    "        packages = packages.splitlines()\n",
    "    else:\n",
    "        packages = target.execute('pm list packages -3 | cut -d: -f 2')\n",
    "        packages = packages.splitlines()\n",
    "\n",
    "    # As a safe fallback let's use a list of standard Android AOSP apps which are always available\n",
    "    if len(packages) < 8:\n",
    "        packages = [\n",
    "            'com.android.messaging',\n",
    "            'com.android.calendar',\n",
    "            'com.android.settings',\n",
    "            'com.android.calculator2',\n",
    "            'com.android.email',\n",
    "            'com.android.music',\n",
    "            'com.android.deskclock',\n",
    "            'com.android.contacts',\n",
    "        ]\n",
    "    \n",
    "    LAUNCH_CMD = 'monkey -p {} -c android.intent.category.LAUNCHER 1 '\n",
    "    \n",
    "    if n > len(packages):\n",
    "        n = len(packages)\n",
    "        \n",
    "    logging.info('Trying to open %d apps...', n)\n",
    "    started = 0\n",
    "    for app in packages:\n",
    "        logging.debug('    Launching %s', app)\n",
    "        try:\n",
    "            target.execute(LAUNCH_CMD.format(app))\n",
    "            started = started + 1\n",
    "            logging.info('  %2d starting %s...', started, app)\n",
    "        except Exception:\n",
    "            pass\n",
    "        if started >= n:\n",
    "            break\n",
    "        \n",
    "    # Close Recents\n",
    "    target.execute('input keyevent KEYCODE_HOME')\n"
   ]
  },
  {
   "cell_type": "code",
   "execution_count": 11,
   "metadata": {},
   "outputs": [],
   "source": [
    "def recentsfling_run(exp_dir):\n",
    "    # Unlock device screen (assume no password required)\n",
    "    target.execute('input keyevent 82')\n",
    "\n",
    "    # Configure screen to max brightness and no dimming\n",
    "    Screen.set_brightness(target, percent=100)\n",
    "    Screen.set_dim(target, auto=False)\n",
    "    Screen.set_timeout(target, 60*60*10) # 10 hours should be enought for an experiment\n",
    "\n",
    "    # Open Recents on the target device\n",
    "    target.execute('input keyevent KEYCODE_APP_SWITCH')\n",
    "    # Allow the activity to start\n",
    "    sleep(5)\n",
    "    # Reset framestats collection\n",
    "    target.execute('dumpsys gfxinfo --reset')\n",
    "    \n",
    "    w, h = target.screen_resolution\n",
    "    x = w/2\n",
    "    yl = int(0.2*h)\n",
    "    yh = int(0.9*h)\n",
    "    \n",
    "    logging.info('Start Swiping Recents')\n",
    "    for i in range(5):\n",
    "        # Simulate two fast UP and DOWN swipes\n",
    "        target.execute('input swipe {} {} {} {} 50'.format(x, yl, x, yh))\n",
    "        sleep(0.3)\n",
    "        target.execute('input swipe {} {} {} {} 50'.format(x, yh, x, yl))\n",
    "        sleep(0.7)\n",
    "    logging.info('Swiping Recents Completed')\n",
    "    \n",
    "    # Reset screen brightness and auto dimming\n",
    "    Screen.set_defaults(target)\n",
    "\n",
    "    # Get frame stats\n",
    "    framestats_file = os.path.join(exp_dir, \"framestats.txt\")\n",
    "    adb_command(target.adb_name, 'shell dumpsys gfxinfo com.android.systemui > {}'.format(framestats_file))\n",
    "    \n",
    "    # Close Recents\n",
    "    target.execute('input keyevent KEYCODE_HOME')\n",
    "\n",
    "    return framestats_file"
   ]
  },
  {
   "cell_type": "code",
   "execution_count": 12,
   "metadata": {},
   "outputs": [],
   "source": [
    "def experiment(governor, exp_dir):\n",
    "    os.system('mkdir -p {}'.format(exp_dir));\n",
    "\n",
    "    logging.info('------------------------')\n",
    "    logging.info('Run workload using %s governor', governor)\n",
    "    confs[governor]['set']()\n",
    "    \n",
    "    # Start FTrace\n",
    "    te.ftrace.start()\n",
    "      \n",
    "    ### Run the benchmark ###\n",
    "    framestats_file = recentsfling_run(exp_dir)\n",
    "    \n",
    "    # Stop FTrace\n",
    "    te.ftrace.stop()    \n",
    "\n",
    "    # Collect and keep track of the trace\n",
    "    trace_file = os.path.join(exp_dir, 'trace.dat')\n",
    "    te.ftrace.get_trace(trace_file)\n",
    "    \n",
    "    # Parse trace\n",
    "    tr = Trace(exp_dir,\n",
    "               my_conf['ftrace']['events'],\n",
    "               te.platform)\n",
    "    \n",
    "    # return all the experiment data\n",
    "    return {\n",
    "        'dir'             : exp_dir,\n",
    "        'framestats_file' : framestats_file,\n",
    "        'trace_file'      : trace_file,\n",
    "        'ftrace'          : tr.ftrace,\n",
    "        'trace'           : tr\n",
    "    }"
   ]
  },
  {
   "cell_type": "code",
   "execution_count": 13,
   "metadata": {},
   "outputs": [],
   "source": [
    "def get_apk_list(chboxes, path):\n",
    "    directories = list()\n",
    "    #current_path = my_conf[\"LISA_HOME\"] + '/apks' + path\n",
    "    current_path = LISA_HOME + '/apks' + path\n",
    "    \n",
    "    try:\n",
    "        os.listdir(current_path)\n",
    "    except:\n",
    "        return\n",
    "    \n",
    "    for apk in os.listdir(current_path):\n",
    "        if not '.apk' in apk :\n",
    "            directories.append(apk)\n",
    "            continue\n",
    "            \n",
    "        application_name = ['None', 'None']\n",
    "        grep = \"application-label-en\"\n",
    "        while len(grep) > len(\"application\"):\n",
    "            try:\n",
    "                application_name = subprocess.check_output(\"/home/ubuntu/Android/AndroidSDK/build-tools/25.0.2/aapt dump badging {} | grep {}\".format(current_path + '/' + apk, grep), shell=True).splitlines()[0].split(\"'\")\n",
    "                break\n",
    "            except:\n",
    "                for idx in range(len(grep) + 1):\n",
    "                    if grep[-idx] == '-':\n",
    "                        break;\n",
    "                grep = grep[0:-idx]\n",
    "                #print(grep)\n",
    "           \n",
    "        package_name = subprocess.check_output(\"/home/ubuntu/Android/AndroidSDK/build-tools/25.0.2/aapt dump badging {} | grep {}\".format(current_path + '/' + apk, 'package:'), shell=True).splitlines()[0].split(\"'\")[1]\n",
    "\n",
    "        \n",
    "        if len(application_name) > 1:\n",
    "            descript = \"{} - {}/{} - {}\".format(application_name[1], path, apk, package_name)\n",
    "            #print(apk + \" / \" + application_name)\n",
    "            chboxes.append(widgets.Checkbox(\n",
    "                value=False,\n",
    "                description=descript,#.decode(\"utf-8\"),\n",
    "                disabled=False,\n",
    "                layout=widgets.Layout(width=\"200%\"),\n",
    "                style={'description_width': 'initial'}\n",
    "            ))\n",
    "            \n",
    "    for directory in directories:\n",
    "        get_apk_list(chboxes, path + '/' + directory)"
   ]
  },
  {
   "cell_type": "code",
   "execution_count": 14,
   "metadata": {},
   "outputs": [],
   "source": [
    "def get_app_list():\n",
    "    # Get a list of third-party packages\n",
    "    CMD_PACKAGE_LIST = \"\"\n",
    "    android_version = target.getprop('ro.build.version.release')\n",
    "    if android_version >= 'N':\n",
    "        CMD_PACKAGE_LIST = 'cmd package list packages | grep {} | cut -d: -f 2'\n",
    "    else:\n",
    "        CMD_PACKAGE_LIST = 'pm list packages -f | grep {} | cut -d: -f 2'\n",
    "    CMD_LAUNCHER_DB = \"sqlite3 /data/data/com.sec.android.app.launcher/databases/launcher.db -cmd 'select componentName from appsTray' .exit\"\n",
    " \n",
    "    launcher_db = target.execute(CMD_LAUNCHER_DB).splitlines()\n",
    "    \n",
    "    print('----------------- launcher_db -----------------')\n",
    "    display(launcher_db)\n",
    "    print('-----------------------------------------------')\n",
    "        \n",
    "    packages = list()\n",
    "    for component in launcher_db:\n",
    "        if len(component) > 0 and '/' in component :\n",
    "            component = component.split('/')[0]\n",
    "            component = target.execute(CMD_PACKAGE_LIST.format(component)).splitlines()[0]\n",
    "            packages.append(component)\n",
    "            #print(component + \" - \" + packages)\n",
    "\n",
    "    print('------------------ packages -------------------')\n",
    "    display(packages)\n",
    "    print('-----------------------------------------------')\n",
    "    #print(len(packages))\n",
    "    #print('-----------------------------------------------') \n",
    "    \n",
    "    chboxes = dict()\n",
    "    chboxes[0] = list()\n",
    "    chboxes[1] = list()\n",
    "    chboxes[2] = list()\n",
    "        \n",
    "    for i in range(len(packages)) :\n",
    "        file_package = packages[i].split(\".apk=\")\n",
    "        application_data = target.execute('/data/local/tmp/aapt-arm-pie d badging {} | grep application:'.format(file_package[0] + \".apk\")).split(\" \")\n",
    "        \n",
    "        for application_name in application_data :\n",
    "            if 'label=' in application_name :\n",
    "                application_name = application_name.split(\"'\")[1]\n",
    "                break\n",
    "                \n",
    "        print(application_name)\n",
    "        \n",
    "        if len(file_package) == 2 and len(application_name) > 1:\n",
    "            #print(application_name[1])\n",
    "            descript = \"{} - {}\".format(application_name[1], file_package[1])\n",
    "\n",
    "            #print(descript)\n",
    "            chboxes[int(2 * i / len(packages))].append(widgets.Checkbox(\n",
    "                value=False,\n",
    "                description=descript,#.decode(\"utf-8\"),\n",
    "                disabled=False,\n",
    "                layout=widgets.Layout(width=\"200%\"),\n",
    "                style={'description_width': 'initial'}\n",
    "            ))\n",
    "    \n",
    "    get_apk_list(chboxes[2], '')\n",
    "    \n",
    "    return chboxes\n",
    "#get_app_list()"
   ]
  },
  {
   "cell_type": "code",
   "execution_count": 15,
   "metadata": {},
   "outputs": [],
   "source": [
    "def adb_press(keycode):\n",
    "    target.execute('input keyevent ' + keycode)"
   ]
  },
  {
   "cell_type": "code",
   "execution_count": 16,
   "metadata": {},
   "outputs": [],
   "source": [
    "def get_pid(package):\n",
    "    try:\n",
    "        return subprocess.check_output(\"adb shell ps -o PID -o NAME | grep {}\".format(package), shell=True).splitlines()[0].split(' ')[0]\n",
    "    except:\n",
    "        return 0\n",
    "    return "
   ]
  },
  {
   "cell_type": "code",
   "execution_count": 17,
   "metadata": {},
   "outputs": [],
   "source": [
    "def on_click_start(change):\n",
    "    count = 0\n",
    "    packages = list()\n",
    "    \n",
    "    wakeup()\n",
    "    print('\\n\\n===== Testing list =====\\n')\n",
    "    \n",
    "    for chbox in chboxes :\n",
    "        for item in chboxes[chbox] :\n",
    "            if(item.value) :\n",
    "                count += 1\n",
    "                package = item.description.split(' - ')\n",
    "                print(str(count) + ' - ' + item.description)\n",
    "                if '.apk' in package[1] and len(package) > 2:\n",
    "                    packages.append({'application' : package[0], 'apk' : package[1], 'package' : package[2]})\n",
    "                    install_cmd = 'adb install ' + my_conf[\"LISA_HOME\"] + '/apks' + package[1];\n",
    "                    try:\n",
    "                        print('        -> ' + install_cmd)\n",
    "                        os.system(install_cmd)\n",
    "                    except:\n",
    "                        print('        -> failed to install')\n",
    "                else:\n",
    "                    packages.append({'application' : package[0], 'package' : package[1]})\n",
    "          \n",
    "    if count == 0 :\n",
    "        print('There is no testing app in the list.\\nPlease select over apps')\n",
    "        return\n",
    "\n",
    "    print('\\n\\n===== Testing =====\\n')\n",
    "    \n",
    "    exp_dir = 'testingdata'\n",
    "    os.system('mkdir -p {}'.format(exp_dir))\n",
    "    \n",
    "    CMD_LAUNCH = 'monkey -p {} -c android.intent.category.LAUNCHER 1 '   \n",
    "    CMD_GET_RECENT_APPS = \"dumpsys activity recents | grep 'Recent #'\"\n",
    "    CMD_FORCE_STOP =  \"adb shell am force-stop {}\"\n",
    "\n",
    "    adb_press(KEYCODE_HOME)\n",
    "    \n",
    "    for app in packages:\n",
    "        adb_press(KEYCODE_APP_SWITCH)\n",
    "        sleep(1)\n",
    "        \n",
    "        Directions = [KEYCODE_DPAD_UP, KEYCODE_DPAD_DOWN, KEYCODE_DPAD_LEFT, KEYCODE_DPAD_RIGHT]\n",
    "\n",
    "        for Direction in Directions:\n",
    "            completed = False\n",
    "            \n",
    "            for i in range(5):\n",
    "                count = 0\n",
    "                nbRecentApps = len(target.execute(CMD_GET_RECENT_APPS).split('\\n'))\n",
    "                nbPreRecentApps = nbRecentApps + 1\n",
    "                \n",
    "                while nbRecentApps < nbPreRecentApps:\n",
    "                    adb_press(KEYCODE_DEL)\n",
    "                    adb_press(KEY_DEL)\n",
    "                    nbPreRecentApps = nbRecentApps\n",
    "                    nbRecentApps = len(target.execute(CMD_GET_RECENT_APPS).split('\\n'))\n",
    "                    count += 1\n",
    "                    \n",
    "                if count > 1 :\n",
    "                    completed = True\n",
    "                    break;\n",
    "\n",
    "                #print(CMD_PRESS + Direction)\n",
    "                adb_press(Direction)\n",
    "                sleep(1)\n",
    "                \n",
    "            if completed :\n",
    "                break;\n",
    "\n",
    "        #te.ftrace.start() # Start FTrace\n",
    "        systrace_output = System.systrace_start(te, os.path.join(exp_dir, 'trace.html'), \n",
    "                                                time=10, conf=systrace_conf)\n",
    "        systrace_output.expect(\"Starting tracing\")\n",
    " \n",
    "        sleep(1)\n",
    "    \n",
    "        try:\n",
    "            print('     Try Launching... ' + app['application'] + '   -   ' + app['package'])\n",
    "            print(CMD_LAUNCH.format(app['package']))\n",
    "            target.execute(CMD_LAUNCH.format(app['package']))\n",
    "            sleep(3)\n",
    "        except Exception:\n",
    "            pass\n",
    "        #te.ftrace.stop()   # Stop FTrace \n",
    "        \n",
    "        systrace_output.sendline(\"\")\n",
    "        System.systrace_wait(te, systrace_output)\n",
    "        te.platform_dump(te.res_dir)\n",
    "        \n",
    "        # Collect and keep track of the trace\n",
    "        #trace_file = os.path.join(exp_dir, 'trace.dat')\n",
    "        #te.ftrace.get_trace(trace_file)\n",
    "\n",
    "        # Parse trace\n",
    "        #tr = Trace(exp_dir, my_conf['ftrace']['events'], te.platform)\n",
    "        \n",
    "        print(get_pid(app['package']))\n",
    "        \n",
    "        try:\n",
    "            target.execute(CMD_FORCE_STOP.format(app['package']))\n",
    "            sleep(1)\n",
    "        except Exception:\n",
    "            pass\n",
    "        "
   ]
  },
  {
   "cell_type": "code",
   "execution_count": 18,
   "metadata": {},
   "outputs": [],
   "source": [
    "def wakeup():\n",
    "    CMD_TOP_ACTIVITY = \"dumpsys activity | grep top-activity\"\n",
    "    CMD_UNLOCK = \"input keyevent 82 && input keyevent 66\"\n",
    "    CMD_POWER = \"input keyevent KEYCODE_POWER\"\n",
    "    \n",
    "    flag = False\n",
    "    \n",
    "    try:\n",
    "        checking = (len(target.execute(CMD_TOP_ACTIVITY)) == 0)\n",
    "    except:\n",
    "        checking = True\n",
    "        \n",
    "    while checking:\n",
    "        if(flag):\n",
    "            flag = False\n",
    "            target.execute(CMD_POWER)\n",
    "        else:\n",
    "            flag = True\n",
    "        target.execute(CMD_UNLOCK)\n",
    "        \n",
    "        sleep(1)\n",
    "        \n",
    "        try:\n",
    "            checking = (len(target.execute(CMD_TOP_ACTIVITY)) == 0)\n",
    "        except:\n",
    "            checking = True"
   ]
  },
  {
   "cell_type": "markdown",
   "metadata": {},
   "source": [
    "## Precondition"
   ]
  },
  {
   "cell_type": "code",
   "execution_count": 19,
   "metadata": {},
   "outputs": [
    {
     "name": "stdout",
     "output_type": "stream",
     "text": [
      "----------------- launcher_db -----------------\n"
     ]
    },
    {
     "data": {
      "text/plain": [
       "['',\n",
       " 'com.google.android.googlequicksearchbox/.SearchActivity',\n",
       " 'com.android.chrome/com.google.android.apps.chrome.Main',\n",
       " 'com.google.android.gm/.ConversationListActivityGmail',\n",
       " 'com.google.android.apps.maps/com.google.android.maps.MapsActivity',\n",
       " 'com.google.android.youtube/.app.honeycomb.Shell$HomeActivity',\n",
       " 'com.google.android.apps.docs/.app.NewMainProxyActivity',\n",
       " 'com.google.android.videos/com.google.android.youtube.videos.EntryPoint',\n",
       " 'com.google.android.apps.tachyon/.MainActivity',\n",
       " 'com.google.android.apps.photos/.home.HomeActivity',\n",
       " '',\n",
       " 'com.yahoo.mobile.client.android.finance/.activity.Main',\n",
       " 'com.oath.flamingo/.main.MainActivity',\n",
       " 'com.yahoo.mobile.client.android.sportacular/com.yahoo.mobile.ysports.activity.LauncherActivity',\n",
       " 'com.yahoo.mobile.client.android.yahoo/com.yahoo.homerun.streams.presentation.view.activity.MainNavigationActivity',\n",
       " '',\n",
       " 'com.sec.android.app.myfiles/.external.ui.MainActivity',\n",
       " 'com.sec.android.app.shealth/com.samsung.android.app.shealth.home.HomeMainActivity',\n",
       " 'com.samsung.android.oneconnect/.ui.SCMainActivity',\n",
       " '',\n",
       " 'com.vzw.ecid/com.cequint.hs.client.frontend.WebShell',\n",
       " 'com.vcast.mediamanager/.gui.activities.SplashLogoActivity',\n",
       " 'com.verizontelematics.verizonhum/.ui.HomeActivity',\n",
       " 'com.verizon.messaging.vzmsgs/com.verizon.mms.ui.activity.Provisioning',\n",
       " 'com.vzw.hss.myverizon/.ui.activities.LauncherActivity',\n",
       " 'com.securityandprivacy.android.verizon.vms/com.mcafee.app.LauncherDelegateActivity',\n",
       " 'com.sec.android.app.popupcalculator/.Calculator',\n",
       " 'com.samsung.android.calendar/com.samsung.android.app.calendar.activity.MainActivity',\n",
       " 'com.sec.android.app.camera/.Camera',\n",
       " 'com.sec.android.app.clockpackage/.ClockPackage',\n",
       " 'com.samsung.android.contacts/.contactslist.PeopleActivity',\n",
       " 'com.samsung.android.email.provider/com.samsung.android.email.ui.activity.MessageListXL',\n",
       " 'com.sec.android.app.samsungapps/.SamsungAppsMainActivity',\n",
       " 'com.samsung.android.app.watchmanager/.setupwizard.SetupWizardWelcomeActivity',\n",
       " 'com.sec.android.gallery3d/com.samsung.android.gallery.app.activity.GalleryActivity',\n",
       " 'com.samsung.android.game.gamehome/.activity.StartActivity',\n",
       " 'com.google.android.apps.walletnfcrel/com.google.commerce.tapandpay.android.cardlist.CardListActivity',\n",
       " 'com.sec.android.app.sbrowser/.SBrowserMainActivity',\n",
       " 'com.samsung.android.messaging/com.android.mms.ui.ConversationComposer',\n",
       " 'com.samsung.android.dialer/.DialtactsActivity',\n",
       " 'com.google.android.music/com.android.music.activitymanagement.TopLevelActivity',\n",
       " 'com.android.vending/.AssetBrowserActivity',\n",
       " 'com.samsung.android.app.notes/.memolist.MemoListActivity',\n",
       " 'com.android.settings/.Settings',\n",
       " 'com.spotify.music/.MainActivity',\n",
       " 'com.samsung.vvm/.vvmapp.VVMApplication',\n",
       " 'com.sec.epdgtestapp/.EpdgMainActivity',\n",
       " 'com.sec.keystringscreen/.MainActivity',\n",
       " 'com.android.development/.Development',\n",
       " 'com.qualcomm.qti.sensors.qsensortest/com.qualcomm.qti.sensors.ui.qsensortest.TabControl',\n",
       " 'com.qualcomm.qti.ssmeditor/.LauncherActivity',\n",
       " 'com.qualcomm.qti.usta/.ui.UnifiedSensorTestActivity',\n",
       " 'com.samsung.advp.imssettings/.MainActivity',\n",
       " 'com.sec.android.app.fm/.MainActivity',\n",
       " 'com.sec.hiddenmenu/.IOTHiddenMenu']"
      ]
     },
     "metadata": {},
     "output_type": "display_data"
    },
    {
     "name": "stdout",
     "output_type": "stream",
     "text": [
      "-----------------------------------------------\n",
      "------------------ packages -------------------\n"
     ]
    },
    {
     "data": {
      "text/plain": [
       "['/system/priv-app/Velvet/Velvet.apk=com.google.android.googlequicksearchbox',\n",
       " '/system/app/Chrome/Chrome.apk=com.android.chrome',\n",
       " '/system/app/Gmail2/Gmail2.apk=com.google.android.gm',\n",
       " '/system/app/Maps/Maps.apk=com.google.android.apps.maps',\n",
       " '/system/app/YouTube/YouTube.apk=com.google.android.youtube',\n",
       " '/data/app/Drive/Drive.apk=com.google.android.apps.docs',\n",
       " '/data/app/Videos/Videos.apk=com.google.android.videos',\n",
       " '/data/app/Duo/Duo.apk=com.google.android.apps.tachyon',\n",
       " '/data/app/Photos/Photos.apk=com.google.android.apps.photos',\n",
       " '/data/app/YahooFinance/YahooFinance.apk=com.yahoo.mobile.client.android.finance',\n",
       " '/data/app/YahooPlay/YahooPlay.apk=com.oath.flamingo',\n",
       " '/data/app/YahooSports/YahooSports.apk=com.yahoo.mobile.client.android.sportacular',\n",
       " '/data/app/YahooNews/YahooNews.apk=com.yahoo.mobile.client.android.yahoo',\n",
       " '/system/priv-app/SecMyFiles2019/SecMyFiles2019.apk=com.sec.android.app.myfiles',\n",
       " '/data/app/SHealth6/SHealth6.apk=com.sec.android.app.shealth',\n",
       " '/data/app/SamsungConnect/SamsungConnect.apk=com.samsung.android.oneconnect',\n",
       " '/system/carrier/priv-app/canid_stub/canid_stub.apk=com.vzw.ecid',\n",
       " '/system/priv-app/VzCloud/VzCloud.apk=com.vcast.mediamanager',\n",
       " '/data/app/Hum/Hum.apk=com.verizontelematics.verizonhum',\n",
       " '/data/app/VZMessages/VZMessages.apk=com.verizon.messaging.vzmsgs',\n",
       " '/system/carrier/priv-app/MyVerizonMobile/MyVerizonMobile.apk=com.vzw.hss.myverizon',\n",
       " '/system/carrier/priv-app/SNP_stub/SNP_stub.apk=com.securityandprivacy.android.verizon.vms',\n",
       " '/data/app/SecCalculator_R/SecCalculator_R.apk=com.sec.android.app.popupcalculator',\n",
       " '/system/app/SamsungCalendar/SamsungCalendar.apk=com.samsung.android.calendar',\n",
       " '/system/priv-app/SamsungCamera/SamsungCamera.apk=com.sec.android.app.camera',\n",
       " '/system/app/ClockPackage/ClockPackage.apk=com.sec.android.app.clockpackage',\n",
       " '/system/priv-app/SamsungContacts/SamsungContacts.apk=com.samsung.android.contacts',\n",
       " '/system/priv-app/SecEmail_P/SecEmail_P.apk=com.samsung.android.email.provider',\n",
       " '/system/priv-app/GalaxyApps_OPEN/GalaxyApps_OPEN.apk=com.sec.android.app.samsungapps',\n",
       " '/data/app/GearManager/GearManager.apk=com.samsung.android.app.watchmanager',\n",
       " '/system/priv-app/SamsungGallery2018/SamsungGallery2018.apk=com.sec.android.gallery3d',\n",
       " '/system/priv-app/GameHome/GameHome.apk=com.samsung.android.game.gamehome',\n",
       " '/data/app/AndroidPay/AndroidPay.apk=com.google.android.apps.walletnfcrel',\n",
       " '/system/app/SBrowser_11.0/SBrowser_11.0.apk=com.sec.android.app.sbrowser',\n",
       " '/system/priv-app/SamsungMessages_11/SamsungMessages_11.apk=com.samsung.android.messaging',\n",
       " '/system/priv-app/SamsungDialer/SamsungDialer.apk=com.samsung.android.dialer',\n",
       " '/data/app/Music2/Music2.apk=com.google.android.music',\n",
       " '/system/priv-app/Phonesky/Phonesky.apk=com.android.vending',\n",
       " '/data/app/Notes32_Removable/Notes32_Removable.apk=com.samsung.android.app.notes',\n",
       " '/system/priv-app/SecSettingsIntelligence/SecSettingsIntelligence.apk=com.android.settings.intelligence',\n",
       " '/data/app/Spotify/Spotify.apk=com.spotify.music',\n",
       " '/system/carrier/priv-app/VisualVoiceMail_VZW_stub/VisualVoiceMail_VZW_stub.apk=com.samsung.vvm',\n",
       " '/system/priv-app/SmartEpdgTestApp/SmartEpdgTestApp.apk=com.sec.epdgtestapp',\n",
       " '/system/app/Keystring/Keystring.apk=com.sec.keystringscreen',\n",
       " '/system/app/Development/Development.apk=com.android.development',\n",
       " '/vendor/app/QSensorTest/QSensorTest.apk=com.qualcomm.qti.sensors.qsensortest',\n",
       " '/vendor/app/SSMEditor/SSMEditor.apk=com.qualcomm.qti.ssmeditor',\n",
       " '/system/app/UnifiedSensorTestApp/UnifiedSensorTestApp.apk=com.qualcomm.qti.usta',\n",
       " '/system/app/ImsSettings/ImsSettings.apk=com.samsung.advp.imssettings',\n",
       " '/system/priv-app/HybridRadio/HybridRadio.apk=com.sec.android.app.fm',\n",
       " '/system/app/HiddenMenu/HiddenMenu.apk=com.sec.hiddenmenu']"
      ]
     },
     "metadata": {},
     "output_type": "display_data"
    },
    {
     "name": "stdout",
     "output_type": "stream",
     "text": [
      "-----------------------------------------------\n",
      "Google\n",
      "Chrome\n",
      "Gmail\n",
      "Maps\n",
      "YouTube\n",
      "Drive\n",
      "Google\n",
      "Duo\n",
      "Photos\n",
      "Finance\n",
      "Play\n",
      "Sports\n",
      "Yahoo\n",
      "My\n",
      "Samsung\n",
      "Smart​Things\n",
      "Caller\n",
      "Cloud\n",
      "hum\n",
      "Message+\n",
      "My\n",
      "Security\n",
      "Calculator\n",
      "Calendar\n",
      "Camera\n",
      "Clock\n",
      "Contacts\n",
      "Email\n",
      "Galaxy\n",
      "Galaxy\n",
      "Gallery\n",
      "Game\n",
      "Google\n",
      "Samsung\n",
      "Messages\n",
      "Phone\n",
      "Google\n",
      "Google\n",
      "Samsung\n",
      "Settings\n",
      "Spotify\n",
      "Voicemail\n",
      "EpdgTestApp\n",
      "Samsung\n",
      "Dev\n",
      "QSensorTest\n",
      "SSMEditor\n",
      "Unified\n",
      "IMS\n",
      "Radio\n",
      "IOTHiddenMenu\n"
     ]
    }
   ],
   "source": [
    "chboxes = get_app_list()"
   ]
  },
  {
   "cell_type": "markdown",
   "metadata": {},
   "source": [
    "## UI Performance Analysis"
   ]
  },
  {
   "cell_type": "code",
   "execution_count": 36,
   "metadata": {},
   "outputs": [],
   "source": [
    "#button = widgets.Button(\n",
    "#    description='START',\n",
    "#    disabled=False,\n",
    "#    button_style='', # 'success', 'info', 'warning', 'danger' or ''\n",
    "#    tooltip='Click me to start',\n",
    "#)\n",
    "\n",
    "toggle = widgets.ToggleButton(\n",
    "    description='START'\n",
    ")\n",
    "#, layout=widgets.Layout(overflow_y='auto')    \n",
    "\n",
    "widgets.VBox([\n",
    "        widgets.HBox([ widgets.VBox(chboxes[0]), widgets.VBox(chboxes[1]), widgets.VBox(chboxes[2]) ]),\n",
    "        toggle\n",
    "])\n",
    "\n",
    "\n",
    "toggle.observe(on_click_start, 'value')"
   ]
  },
  {
   "cell_type": "code",
   "execution_count": 37,
   "metadata": {},
   "outputs": [
    {
     "data": {
      "application/vnd.jupyter.widget-view+json": {
       "model_id": "6b93ee499d1a4a86b893e4809a137e67",
       "version_major": 2,
       "version_minor": 0
      },
      "text/plain": [
       "IntSlider(value=0)"
      ]
     },
     "metadata": {},
     "output_type": "display_data"
    }
   ],
   "source": [
    "import ipywidgets\n",
    "\n",
    "ipywidgets.IntSlider()"
   ]
  },
  {
   "cell_type": "code",
   "execution_count": 38,
   "metadata": {},
   "outputs": [
    {
     "data": {
      "application/vnd.jupyter.widget-view+json": {
       "model_id": "47666a9855394b9c9fa37e6d359a50a1",
       "version_major": 2,
       "version_minor": 0
      },
      "text/plain": [
       "Button(description='save', style=ButtonStyle())"
      ]
     },
     "metadata": {},
     "output_type": "display_data"
    },
    {
     "data": {
      "application/vnd.jupyter.widget-view+json": {
       "model_id": "7cc296cd18a44ee29e5a27ae00ec5eb1",
       "version_major": 2,
       "version_minor": 0
      },
      "text/plain": [
       "Output()"
      ]
     },
     "metadata": {},
     "output_type": "display_data"
    },
    {
     "data": {
      "text/plain": [
       "[<matplotlib.lines.Line2D at 0x7f36f8ba81d0>]"
      ]
     },
     "execution_count": 38,
     "metadata": {},
     "output_type": "execute_result"
    },
    {
     "data": {
      "image/png": "[encoded data removed]",
      "text/plain": [
       "<Figure size 432x288 with 1 Axes>"
      ]
     },
     "metadata": {
      "needs_background": "light"
     },
     "output_type": "display_data"
    }
   ],
   "source": [
    "button = widgets.Button(description='save')\n",
    "display(button)\n",
    "\n",
    "output = widgets.Output()\n",
    "display(output)\n",
    "\n",
    "import numpy as np\n",
    "import matplotlib.pyplot as plt\n",
    "x = np.arange(-3, 3, 0.1)\n",
    "y = np.sin(x)\n",
    "plt.plot(x, y)\n"
   ]
  },
  {
   "cell_type": "markdown",
   "metadata": {},
   "source": [
    "### Run workload and collect traces"
   ]
  },
  {
   "cell_type": "code",
   "execution_count": 22,
   "metadata": {},
   "outputs": [],
   "source": [
    "# Unlock device screen (assume no password required)\n",
    "#target.execute('input keyevent 82')\n",
    "\n",
    "# Run the benchmark in all the configured governors\n",
    "#for governor in confs:\n",
    "#    test_dir = os.path.join(te.res_dir, governor)\n",
    "#    results[governor] = experiment(governor, test_dir)"
   ]
  },
  {
   "cell_type": "markdown",
   "metadata": {},
   "source": [
    "## UI Performance Analysis"
   ]
  },
  {
   "cell_type": "code",
   "execution_count": 23,
   "metadata": {},
   "outputs": [],
   "source": [
    "#for governor in confs:\n",
    "#    framestats_file = results[governor]['framestats_file']\n",
    "#    print \"Frame Statistics for {} governor\".format(governor.upper())\n",
    "#    !sed '/Stats since/,/99th/!d;/99th/q' $framestats_file\n",
    "#    print \"\""
   ]
  }
 ],
 "metadata": {
  "kernelspec": {
   "display_name": "Python 3",
   "language": "python",
   "name": "python3"
  },
  "language_info": {
   "codemirror_mode": {
    "name": "ipython",
    "version": 3
   },
   "file_extension": ".py",
   "mimetype": "text/x-python",
   "name": "python",
   "nbconvert_exporter": "python",
   "pygments_lexer": "ipython3",
   "version": "3.5.2"
  },
  "toc": {
   "toc_cell": false,
   "toc_number_sections": true,
   "toc_threshold": 6,
   "toc_window_display": false
  }
 },
 "nbformat": 4,
 "nbformat_minor": 4
}
